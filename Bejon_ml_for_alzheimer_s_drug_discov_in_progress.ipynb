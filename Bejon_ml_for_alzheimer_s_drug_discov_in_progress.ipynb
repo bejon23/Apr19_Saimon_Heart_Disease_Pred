{
  "metadata": {
    "kernelspec": {
      "language": "python",
      "display_name": "Python 3",
      "name": "python3"
    },
    "language_info": {
      "pygments_lexer": "ipython3",
      "nbconvert_exporter": "python",
      "version": "3.6.4",
      "file_extension": ".py",
      "codemirror_mode": {
        "name": "ipython",
        "version": 3
      },
      "name": "python",
      "mimetype": "text/x-python"
    },
    "kaggle": {
      "accelerator": "none",
      "dataSources": [],
      "isInternetEnabled": false,
      "language": "python",
      "sourceType": "notebook",
      "isGpuEnabled": false
    },
    "colab": {
      "provenance": [],
      "include_colab_link": true
    }
  },
  "nbformat_minor": 0,
  "nbformat": 4,
  "cells": [
    {
      "cell_type": "markdown",
      "metadata": {
        "id": "view-in-github",
        "colab_type": "text"
      },
      "source": [
        "<a href=\"https://colab.research.google.com/github/bejon23/Apr19_Saimon_Heart_Disease_Pred/blob/main/Bejon_ml_for_alzheimer_s_drug_discov_in_progress.ipynb\" target=\"_parent\"><img src=\"https://colab.research.google.com/assets/colab-badge.svg\" alt=\"Open In Colab\"/></a>"
      ]
    },
    {
      "cell_type": "code",
      "source": [
        "# This Python 3 environment comes with many helpful analytics libraries installed\n",
        "# It is defined by the kaggle/python Docker image: https://github.com/kaggle/docker-python\n",
        "# For example, here's several helpful packages to load\n",
        "\n",
        "import numpy as np # linear algebra\n",
        "import pandas as pd # data processing, CSV file I/O (e.g. pd.read_csv)\n",
        "\n",
        "# Input data files are available in the read-only \"../input/\" directory\n",
        "# For example, running this (by clicking run or pressing Shift+Enter) will list all files under the input directory\n",
        "\n",
        "import os\n",
        "for dirname, _, filenames in os.walk('/kaggle/input'):\n",
        "    for filename in filenames:\n",
        "        print(os.path.join(dirname, filename))\n",
        "\n",
        "# You can write up to 20GB to the current directory (/kaggle/working/) that gets preserved as output when you create a version using \"Save & Run All\"\n",
        "# You can also write temporary files to /kaggle/temp/, but they won't be saved outside of the current session"
      ],
      "metadata": {
        "_uuid": "8f2839f25d086af736a60e9eeb907d3b93b6e0e5",
        "_cell_guid": "b1076dfc-b9ad-4769-8c92-a6c4dae69d19",
        "execution": {
          "iopub.status.busy": "2023-06-04T18:53:50.744167Z",
          "iopub.execute_input": "2023-06-04T18:53:50.744786Z",
          "iopub.status.idle": "2023-06-04T18:53:50.799804Z",
          "shell.execute_reply.started": "2023-06-04T18:53:50.744744Z",
          "shell.execute_reply": "2023-06-04T18:53:50.798474Z"
        },
        "trusted": true,
        "id": "9i8kYdwarA5w"
      },
      "execution_count": null,
      "outputs": []
    },
    {
      "cell_type": "markdown",
      "source": [
        "***"
      ],
      "metadata": {
        "id": "u7ThdpRgrA53"
      }
    },
    {
      "cell_type": "markdown",
      "source": [
        "# 1. Alzheimer's disease: an ongoing challenge\n",
        "\n",
        "\n",
        "**Alzheimer's disease (AD)** is a neurodegenerative disease that usually starts slowly and progressively worsens. It is the cause of 60–70% of cases of dementia. The most common early symptom is difficulty in remembering recent events. As the disease advances, symptoms can include problems with language, disorientation (including easily getting lost), mood swings, loss of motivation, self-neglect, and behavioral issues. As a person's condition declines, they often withdraw from family and society. Gradually, bodily functions are lost, ultimately leading to death. Although the speed of progression can vary, the typical life expectancy following diagnosis is three to nine years.\n",
        "\n",
        "**Beta amyloid A4 protein** ([Uniprot](http://www.uniprot.org/uniprotkb/P05067/entry#structure)), also known as amyloid-beta (Aβ), is a key component involved in the development and progression of Alzheimer's disease (AD) ([Nature Reviews Neurology](http://www.nature.com/articles/nrneurol.2009.219)). Alzheimer's disease is a neurodegenerative disorder characterized by memory loss, cognitive decline, and behavioral changes.\n",
        "\n",
        "In Alzheimer's disease, there is an abnormal accumulation of beta-amyloid plaques in the brain. The accumulation of Aβ plaques is believed to trigger a series of pathological events that contribute to the neurodegeneration seen in Alzheimer's disease. Aβ peptides can aggregate to form insoluble plaques, which can disrupt neuronal function, cause inflammation, and lead to the death of brain cells.\n",
        "\n",
        "The precise mechanisms by which Aβ leads to neurodegeneration are still under investigation, but the accumulation of Aβ and its subsequent effects on brain function are considered central to the disease pathology.\n",
        "\n",
        "Numerous therapeutic approaches have been developed to target Aβ, such as anti-Aβ antibodies, beta-secretase inhibitors, and gamma-secretase modulators. The goal of these treatments is to reduce the production, aggregation, or enhance the clearance of Aβ in order to slow down or halt the progression of Alzheimer's disease.\n",
        "\n",
        "it's important to note that while targeting Aβ has shown promise in preclinical studies, clinical trials have been met with mixed results, and the development of effective treatments for Alzheimer's disease remains a significant challenge.\n",
        "\n",
        "On the basis of preclinical studies and the limited data from clinical trials, **Aβ immunotherapy** might be most effective in preventing or slowing the progression of AD when patients are immunized before or in the very earliest stages of disease onset.\n",
        "\n",
        "Therefore, the identification of a molecule capable of leveraging this function is crucial for the development of future clinical therapies. Computational drug discovery, as well as quantitative structure-activity relationship (QSAR) and machine learning techniques, are fundamental in this endeavor."
      ],
      "metadata": {
        "id": "EB773sxJrA6-"
      }
    },
    {
      "cell_type": "markdown",
      "source": [
        "***"
      ],
      "metadata": {
        "id": "nvplX0turA7B"
      }
    },
    {
      "cell_type": "markdown",
      "source": [
        "# 2. QSAR: Unveiling the Significance of Molecular Structure in Drug Design"
      ],
      "metadata": {
        "id": "hHMyLArOrA7C"
      }
    },
    {
      "cell_type": "markdown",
      "source": [
        "QSAR, which stands for Quantitative Structure-Activity Relationship, is a powerful technique that harnesses the capabilities of **Machine Learning (ML)** to understand the intricate connection between a molecule's chemical structure and its biological activity. The complete workflow process is visually depicted in Figure 1:\n",
        "\n",
        "![ML_drug_discovery.png](attachment:c5b9b9de-08f9-4c44-a7a9-9272f908069d.png)\n",
        "\n",
        "Figure 1: workflow process of QSAR (source: [Data Professor](http://github.com/dataprofessor))\n"
      ],
      "metadata": {
        "id": "VerFsP7MrA7D"
      }
    },
    {
      "cell_type": "markdown",
      "source": [
        "In the example depicted in Figure 1, we observe two molecular chemical structures labeled as molecule 1 and molecule 2. However, in practical scenarios, the number of molecules considered extends far beyond just two; it can encompass hundreds, thousands, or even more!\n",
        "\n",
        "Each molecule shown undergoes **calculations to derive its molecular descriptors**. These descriptors play a vital role in describing the physicochemical properties that differentiate one molecule from another. In Figure 1, the molecular descriptors are represented by binary values of 1 or 0, indicating the presence or absence of specific molecular features.\n",
        "\n",
        "The compilation of molecular descriptors for all the molecules in the dataset constitutes the dataframe. The x variables correspond to the molecular descriptors, while the y values correspond to the biological activity that we aim to predict. In Figure 1, a value of 1 signifies an active molecule, whereas a value of 0 denotes inactivity.\n",
        "\n",
        "The dataset serves as the training data for a machine learning model. The goal is for the model to learn the intricate relationship between the chemical structure and the biological activity. Consequently, in a future scenario, when a molecule with a set of given molecular descriptors is introduced to the predictive model, it can make a prediction regarding the molecule's activity or inactivity.\n",
        "\n",
        "Furthermore, in addition to predicting activity or inactivity, the model also provides valuable insights into the importance of various features. This information proves critical for biologists and chemists in their pursuit of designing future molecules with enhanced properties and greater robustness.\n"
      ],
      "metadata": {
        "id": "ZrraE53CrA7E"
      }
    },
    {
      "cell_type": "markdown",
      "source": [
        "<div style=\"background-color: yellow; padding: 10px;\">\n",
        "\n",
        "In this project, our objective is to gather bioactive data for drug-like inhibitor molecules targeting the Beta amyloid A4 protein from the ChRMBL database. We will employ various techniques, including calculating molecular and Lipinski descriptors, as well as molecular fingerprints. Additionally, we aim to construct Machine Learning models based on QSAR (Quantitative Structure-Activity Relationship) to predict the bioactivity data of unknown molecules.\n",
        "    \n",
        "</div>"
      ],
      "metadata": {
        "id": "mFkQskxlrA7F"
      }
    },
    {
      "cell_type": "markdown",
      "source": [
        "***"
      ],
      "metadata": {
        "id": "_vHnF7IkrA7G"
      }
    },
    {
      "cell_type": "markdown",
      "source": [
        "# 3. Download Bioactivity Data"
      ],
      "metadata": {
        "id": "b9-09vgTrA7H"
      }
    },
    {
      "cell_type": "markdown",
      "source": [
        " In this section we will be performing Data Collection and Pre-Processing from the [ChEMBL Database](http://www.ebi.ac.uk/chembl/).\n",
        "\n",
        " ChEMBL database is a database that contains curated bioactivity data of more than 2 million compounds.\n",
        " It is compiled from more than 76000 documents, 1.2 million assays and the data spans 13000 targets and 1800 cells and 33000 indications.\n",
        "\n",
        " Let'install the ChEMBL web service package so that we can retrieve bioactivity data from the ChEMBL database:"
      ],
      "metadata": {
        "id": "wCEDvH2XrA7I"
      }
    },
    {
      "cell_type": "markdown",
      "source": [
        "## 3.1 Installing and importing libraries"
      ],
      "metadata": {
        "id": "aQkqJOQ4rA7J"
      }
    },
    {
      "cell_type": "code",
      "source": [
        "! pip install chembl_webresource_client\n",
        "! pip install rdkit"
      ],
      "metadata": {
        "execution": {
          "iopub.status.busy": "2023-06-04T18:53:50.801794Z",
          "iopub.execute_input": "2023-06-04T18:53:50.802125Z",
          "iopub.status.idle": "2023-06-04T18:54:22.468293Z",
          "shell.execute_reply.started": "2023-06-04T18:53:50.802098Z",
          "shell.execute_reply": "2023-06-04T18:54:22.466855Z"
        },
        "trusted": true,
        "id": "68RiVqp7rA7K"
      },
      "execution_count": null,
      "outputs": []
    },
    {
      "cell_type": "code",
      "source": [
        "# Import necessary libraries\n",
        "from chembl_webresource_client.new_client import new_client"
      ],
      "metadata": {
        "execution": {
          "iopub.status.busy": "2023-06-04T18:54:22.470355Z",
          "iopub.execute_input": "2023-06-04T18:54:22.470887Z",
          "iopub.status.idle": "2023-06-04T18:54:24.146571Z",
          "shell.execute_reply.started": "2023-06-04T18:54:22.470839Z",
          "shell.execute_reply": "2023-06-04T18:54:24.145404Z"
        },
        "trusted": true,
        "id": "kqAmR1QXrA7N"
      },
      "execution_count": null,
      "outputs": []
    },
    {
      "cell_type": "markdown",
      "source": [
        "## 3.2 Search for target proteins and active molecules"
      ],
      "metadata": {
        "id": "iy7A4oSorA7O"
      }
    },
    {
      "cell_type": "markdown",
      "source": [
        "Let's retrieve the compounds data from a datset downloaded from [ChEMBL repository for Beta amyloid A4 protein].\n",
        "(http://www.ebi.ac.uk/chembl/g/#browse/compounds/filter/_metadata.related_targets.all_chembl_ids%3ACHEMBL2487)\n",
        "Let's perform a targeted search for Beta amyloid A4 protein. The retrieval process for data from the ChEMBL Database is excessively time-consuming."
      ],
      "metadata": {
        "id": "USrzvZ2WrA7P"
      }
    },
    {
      "cell_type": "code",
      "source": [
        "# Target search for Beta amyloid A4 protein       # The retrieval process for data from the ChEMBL Database is excessively time-consuming\n",
        "#target = new_client.target\n",
        "#target_query = target.search('Beta amyloid A4 protein')\n",
        "#targets = pd.DataFrame.from_dict(target_query)\n",
        "#targets"
      ],
      "metadata": {
        "execution": {
          "iopub.status.busy": "2023-06-04T18:54:24.149672Z",
          "iopub.execute_input": "2023-06-04T18:54:24.150025Z",
          "iopub.status.idle": "2023-06-04T18:54:24.1552Z",
          "shell.execute_reply.started": "2023-06-04T18:54:24.149996Z",
          "shell.execute_reply": "2023-06-04T18:54:24.153854Z"
        },
        "trusted": true,
        "id": "v5rFXdfvrA7Q"
      },
      "execution_count": null,
      "outputs": []
    },
    {
      "cell_type": "markdown",
      "source": [
        "Hence, we import the data for **small molecules** exhibiting activity against the Beta amyloid A4 protein from an xlsx file sourced from the ChEMBL Database:"
      ],
      "metadata": {
        "id": "4emUpokTrA7R"
      }
    },
    {
      "cell_type": "code",
      "source": [
        "df = pd.read_excel('/kaggle/input/beta-amyloid-a4-protein-active-compounds/Beta_amyloid A4_protein_active_compounds.xlsx')\n",
        "df"
      ],
      "metadata": {
        "execution": {
          "iopub.status.busy": "2023-06-04T18:54:24.156727Z",
          "iopub.execute_input": "2023-06-04T18:54:24.157156Z",
          "iopub.status.idle": "2023-06-04T18:54:31.26093Z",
          "shell.execute_reply.started": "2023-06-04T18:54:24.15711Z",
          "shell.execute_reply": "2023-06-04T18:54:31.259771Z"
        },
        "trusted": true,
        "id": "FSeXhxi2rA7R"
      },
      "execution_count": null,
      "outputs": []
    },
    {
      "cell_type": "markdown",
      "source": [
        "The database contains 7,918 entries of drug-like molecules, each with 45 features."
      ],
      "metadata": {
        "id": "1vR5qo8QrA7S"
      }
    },
    {
      "cell_type": "markdown",
      "source": [
        "## 3.3 Data Cleaning and Labeling"
      ],
      "metadata": {
        "id": "nH_iNgfVrA7T"
      }
    },
    {
      "cell_type": "markdown",
      "source": [
        "Our primary focus within the database is on specific features of drug-like molecules.\n",
        "\n",
        "Initially, we ensure that the molecules have been exclusively tested on Homo sapiens as the target organism and that the target type is restricted to single proteins."
      ],
      "metadata": {
        "id": "YmqlkvNvrA7T"
      }
    },
    {
      "cell_type": "code",
      "source": [
        "# Retrieve unique values for the \"Target Organism\" column in the dataframe (df)\n",
        "df[\"Target Organism\"].unique()"
      ],
      "metadata": {
        "execution": {
          "iopub.status.busy": "2023-06-04T18:54:31.262387Z",
          "iopub.execute_input": "2023-06-04T18:54:31.263193Z",
          "iopub.status.idle": "2023-06-04T18:54:31.274251Z",
          "shell.execute_reply.started": "2023-06-04T18:54:31.263157Z",
          "shell.execute_reply": "2023-06-04T18:54:31.273446Z"
        },
        "trusted": true,
        "id": "cDGKBum_rA7T"
      },
      "execution_count": null,
      "outputs": []
    },
    {
      "cell_type": "code",
      "source": [
        "# Retrieve unique values for the \"Target Type\" column in the dataframe (df)\n",
        "df[\"Target Type\"].unique()"
      ],
      "metadata": {
        "execution": {
          "iopub.status.busy": "2023-06-04T18:54:31.27566Z",
          "iopub.execute_input": "2023-06-04T18:54:31.276011Z",
          "iopub.status.idle": "2023-06-04T18:54:31.294652Z",
          "shell.execute_reply.started": "2023-06-04T18:54:31.275981Z",
          "shell.execute_reply": "2023-06-04T18:54:31.293279Z"
        },
        "trusted": true,
        "id": "SOg89coorA7U"
      },
      "execution_count": null,
      "outputs": []
    },
    {
      "cell_type": "markdown",
      "source": [
        "Now we select only the molecules containing **IC50** to make our dataset more uniform:\n"
      ],
      "metadata": {
        "id": "R90SCTHNrA7V"
      }
    },
    {
      "cell_type": "code",
      "source": [
        "df_ic50 = df[df['Standard Type'] == 'IC50']\n",
        "df_ic50"
      ],
      "metadata": {
        "execution": {
          "iopub.status.busy": "2023-06-04T18:54:31.29637Z",
          "iopub.execute_input": "2023-06-04T18:54:31.297017Z",
          "iopub.status.idle": "2023-06-04T18:54:31.338565Z",
          "shell.execute_reply.started": "2023-06-04T18:54:31.296982Z",
          "shell.execute_reply": "2023-06-04T18:54:31.337493Z"
        },
        "trusted": true,
        "id": "mFPW8Z5xrA7W"
      },
      "execution_count": null,
      "outputs": []
    },
    {
      "cell_type": "markdown",
      "source": [
        "**IC50**, which stands for **Half maximal inhibitory concentration**, is a quantitative measure used to assess the potency of a substance in inhibiting a specific biological or biochemical function. It indicates the amount of a particular inhibitory substance, such as a drug, required to inhibit a given biological process or component by 50% in vitro.\n",
        "\n",
        "In the dataframe, the IC50 value can be found under the column labeled \"Standard Value.\" This value represents the potency of the drug, with lower values indicating greater potency. Ideally, we aim to identify standard values that are as low as possible, indicating a lower concentration of the inhibitory substance required to achieve a 50% inhibition.  "
      ],
      "metadata": {
        "id": "T135Hvc6rA7X"
      }
    },
    {
      "cell_type": "markdown",
      "source": [
        "Let's keep thr rows which have nm as \"Standard Units\" (unit of concentration):"
      ],
      "metadata": {
        "id": "4DMFQsLIrA7X"
      }
    },
    {
      "cell_type": "code",
      "source": [
        "# Filter the DataFrame (df_ic50) to retain only rows where the 'Standard Units' column is equal to 'nM'\n",
        "df2 = df_ic50[df_ic50['Standard Units'] == 'nM']\n",
        "df2"
      ],
      "metadata": {
        "execution": {
          "iopub.status.busy": "2023-06-04T18:54:31.340027Z",
          "iopub.execute_input": "2023-06-04T18:54:31.3407Z",
          "iopub.status.idle": "2023-06-04T18:54:31.378916Z",
          "shell.execute_reply.started": "2023-06-04T18:54:31.34066Z",
          "shell.execute_reply": "2023-06-04T18:54:31.377706Z"
        },
        "trusted": true,
        "id": "hZs1uE8irA7Y"
      },
      "execution_count": null,
      "outputs": []
    },
    {
      "cell_type": "code",
      "source": [
        "df3 = df2[~df2['Standard Value'].isnull()]\n",
        "df3"
      ],
      "metadata": {
        "execution": {
          "iopub.status.busy": "2023-06-04T18:54:31.384421Z",
          "iopub.execute_input": "2023-06-04T18:54:31.384798Z",
          "iopub.status.idle": "2023-06-04T18:54:31.424808Z",
          "shell.execute_reply.started": "2023-06-04T18:54:31.384767Z",
          "shell.execute_reply": "2023-06-04T18:54:31.423488Z"
        },
        "trusted": true,
        "id": "JViTu9uVrA7Y"
      },
      "execution_count": null,
      "outputs": []
    },
    {
      "cell_type": "markdown",
      "source": [
        "Next, we will verify if the following columns in the dataframe have all non-null values: \"Standard Value,\" \"Standard Units,\" \"Standard Type,\" and \"Molecule ChEMBL ID\":"
      ],
      "metadata": {
        "id": "6U0xMKEXrA7Z"
      }
    },
    {
      "cell_type": "code",
      "source": [
        "#Count the number of null values in each column of the DataFrame (df3)\n",
        "df3.isnull().sum()"
      ],
      "metadata": {
        "execution": {
          "iopub.status.busy": "2023-06-04T18:54:31.426685Z",
          "iopub.execute_input": "2023-06-04T18:54:31.427046Z",
          "iopub.status.idle": "2023-06-04T18:54:31.453688Z",
          "shell.execute_reply.started": "2023-06-04T18:54:31.427018Z",
          "shell.execute_reply": "2023-06-04T18:54:31.452455Z"
        },
        "trusted": true,
        "id": "qZgqlRGGrA7a"
      },
      "execution_count": null,
      "outputs": []
    },
    {
      "cell_type": "markdown",
      "source": [
        "\"Standard Value,\" \"Standard Units,\" , \"Molecular Weight\", \"Standard Type,\" and \"Molecule ChEMBL ID\" have all 0 null values."
      ],
      "metadata": {
        "id": "jlA5-8H0rA7b"
      }
    },
    {
      "cell_type": "markdown",
      "source": [
        "Now we create a new database with only the features we are interested in:"
      ],
      "metadata": {
        "id": "uqF_7dBerA7b"
      }
    },
    {
      "cell_type": "code",
      "source": [
        "selection = ['Molecule ChEMBL ID','Molecular Weight', 'Smiles','Standard Value'] # Define a list of column names to be selected from df3\n",
        "df4 = df3[selection]                           # Create a new DataFrame (df4) by selecting the columns specified in the selection list from df3\n",
        "df4.reset_index(drop=True, inplace=True)      # Reset the index of df4 to start from 0, dropping the old index column\n",
        "df4"
      ],
      "metadata": {
        "execution": {
          "iopub.status.busy": "2023-06-04T18:54:31.455792Z",
          "iopub.execute_input": "2023-06-04T18:54:31.456157Z",
          "iopub.status.idle": "2023-06-04T18:54:31.486679Z",
          "shell.execute_reply.started": "2023-06-04T18:54:31.456128Z",
          "shell.execute_reply": "2023-06-04T18:54:31.485495Z"
        },
        "trusted": true,
        "id": "doNTGAtNrA7c"
      },
      "execution_count": null,
      "outputs": []
    },
    {
      "cell_type": "markdown",
      "source": [
        "Let's saves the final dataframe to CSV file:\n",
        "\n"
      ],
      "metadata": {
        "id": "A2ArnGEMrA7d"
      }
    },
    {
      "cell_type": "code",
      "source": [
        "df4.to_csv('Beta_amyloid_A4_protein_bioactivity_data_curated.csv', index=False)"
      ],
      "metadata": {
        "execution": {
          "iopub.status.busy": "2023-06-04T18:54:31.488746Z",
          "iopub.execute_input": "2023-06-04T18:54:31.489217Z",
          "iopub.status.idle": "2023-06-04T18:54:31.514115Z",
          "shell.execute_reply.started": "2023-06-04T18:54:31.48917Z",
          "shell.execute_reply": "2023-06-04T18:54:31.513078Z"
        },
        "trusted": true,
        "id": "lreBGttorA7d"
      },
      "execution_count": null,
      "outputs": []
    },
    {
      "cell_type": "markdown",
      "source": [
        "## 3.4 Labeling compounds as either being active, inactive or intermediate"
      ],
      "metadata": {
        "id": "VEmjK7ivrA7d"
      }
    },
    {
      "cell_type": "markdown",
      "source": [
        "The bioactivity data is in the IC50 unit. Compounds having values of less than 1000 nM will be considered to be **active** while those greater than 10,000 nM will be considered to be **inactive**. As for those values in between 1,000 and 10,000 nM will be referred to as **intermediate**."
      ],
      "metadata": {
        "id": "iJLed_32rA7e"
      }
    },
    {
      "cell_type": "code",
      "source": [
        "bioactivity_threshold = []           # Create an empty list to store the bioactivity thresholds\n",
        "for i in df4[\"Standard Value\"]:      # Iterate over the \"Standard Value\" column in df4\n",
        "  if float(i) >= 10000:\n",
        "    bioactivity_threshold.append(\"inactive\")\n",
        "  elif float(i) <= 1000:\n",
        "    bioactivity_threshold.append(\"active\")\n",
        "  else:\n",
        "    bioactivity_threshold.append(\"intermediate\")"
      ],
      "metadata": {
        "execution": {
          "iopub.status.busy": "2023-06-04T18:54:31.515435Z",
          "iopub.execute_input": "2023-06-04T18:54:31.515776Z",
          "iopub.status.idle": "2023-06-04T18:54:31.527041Z",
          "shell.execute_reply.started": "2023-06-04T18:54:31.515748Z",
          "shell.execute_reply": "2023-06-04T18:54:31.525668Z"
        },
        "trusted": true,
        "id": "CEEDabIPrA7x"
      },
      "execution_count": null,
      "outputs": []
    },
    {
      "cell_type": "code",
      "source": [
        "# Create a pandas Series called \"bioactivity_class\" using the \"bioactivity_threshold\" list, with the name 'class'\n",
        "bioactivity_class = pd.Series(bioactivity_threshold, name='class')\n",
        "\n",
        "#Concatenate the DataFrame df4 and the \"bioactivity_class\" Series along the columns (axis=1)\n",
        "df5 = pd.concat([df4, bioactivity_class], axis=1)\n",
        "df5"
      ],
      "metadata": {
        "execution": {
          "iopub.status.busy": "2023-06-04T18:54:31.529023Z",
          "iopub.execute_input": "2023-06-04T18:54:31.529457Z",
          "iopub.status.idle": "2023-06-04T18:54:31.553934Z",
          "shell.execute_reply.started": "2023-06-04T18:54:31.529344Z",
          "shell.execute_reply": "2023-06-04T18:54:31.553136Z"
        },
        "trusted": true,
        "id": "5muTyAdfrA7y"
      },
      "execution_count": null,
      "outputs": []
    },
    {
      "cell_type": "code",
      "source": [
        "df5.to_csv('Beta_amyloid_A4_protein_bioactivity_data_curated_and_labelled.csv', index=False)"
      ],
      "metadata": {
        "execution": {
          "iopub.status.busy": "2023-06-04T18:54:31.555233Z",
          "iopub.execute_input": "2023-06-04T18:54:31.555533Z",
          "iopub.status.idle": "2023-06-04T18:54:31.574276Z",
          "shell.execute_reply.started": "2023-06-04T18:54:31.555508Z",
          "shell.execute_reply": "2023-06-04T18:54:31.573197Z"
        },
        "trusted": true,
        "id": "mbGw5DXTrA7z"
      },
      "execution_count": null,
      "outputs": []
    },
    {
      "cell_type": "markdown",
      "source": [
        "***"
      ],
      "metadata": {
        "id": "5SEHelM2rA7z"
      }
    },
    {
      "cell_type": "markdown",
      "source": [
        "# 4. Exploratory Data Analysis (EDA)"
      ],
      "metadata": {
        "id": "dvumP5W3rA70"
      }
    },
    {
      "cell_type": "markdown",
      "source": [
        "Lets' install **conda** and **rdkit** for calculating molecular descriptors of the drug-like molecules in the dataframe:"
      ],
      "metadata": {
        "id": "QMsjz1BDrA70"
      }
    },
    {
      "cell_type": "code",
      "source": [
        "! wget https://repo.anaconda.com/miniconda/Miniconda3-py37_4.8.2-Linux-x86_64.sh\n",
        "! chmod +x Miniconda3-py37_4.8.2-Linux-x86_64.sh\n",
        "! bash ./Miniconda3-py37_4.8.2-Linux-x86_64.sh -b -f -p /usr/local\n",
        "! conda install -c rdkit rdkit -y\n",
        "import sys\n",
        "sys.path.append('/usr/local/lib/python3.7/site-packages/')"
      ],
      "metadata": {
        "execution": {
          "iopub.status.busy": "2023-06-04T18:54:31.575705Z",
          "iopub.execute_input": "2023-06-04T18:54:31.576033Z",
          "iopub.status.idle": "2023-06-04T18:55:28.692524Z",
          "shell.execute_reply.started": "2023-06-04T18:54:31.576006Z",
          "shell.execute_reply": "2023-06-04T18:55:28.690859Z"
        },
        "trusted": true,
        "id": "sXoLdOJhrA71"
      },
      "execution_count": null,
      "outputs": []
    },
    {
      "cell_type": "markdown",
      "source": [
        "## 4.1 Calculating Lipinski Descriptors"
      ],
      "metadata": {
        "id": "ylugaf6wrA72"
      }
    },
    {
      "cell_type": "markdown",
      "source": [
        "Christopher Lipinski, a scientist at Pfizer, came up with a set of rule-of-thumb for evaluating the **druglikeness** of compounds. Such druglikeness is based on the Absorption, Distribution, Metabolism and Excretion (ADME) that is also known as the pharmacokinetic profile. Lipinski analyzed all orally active FDA-approved drugs in the formulation of what is to be known as the **Rule-of-Five** or **Lipinski's Rule**:"
      ],
      "metadata": {
        "id": "cRu2Wry2rA73"
      }
    },
    {
      "cell_type": "markdown",
      "source": [
        "- Molecular weight < 500 Dalton\n",
        "- Octanol-water partition coefficient (LogP) < 5\n",
        "- Hydrogen bond donors < 5\n",
        "- Hydrogen bond acceptors < 10"
      ],
      "metadata": {
        "id": "XbmMOnBqrA73"
      }
    },
    {
      "cell_type": "markdown",
      "source": [
        "The partition coefficient, abbreviated P, is defined as a particular ratio of the concentrations of a solute between the two solvents (octanol and water biphase solution), specifically for un-ionized solutes, and the logarithm of the ratio is thus LogP. The values taken by LogP are typically negative for substances with a high hydrophilic character, while they are positive and progressively increase with increasing hydrophobic character."
      ],
      "metadata": {
        "id": "M2V3or-xrA74"
      }
    },
    {
      "cell_type": "code",
      "source": [
        "#Import libraries\n",
        "from rdkit import Chem\n",
        "from rdkit.Chem import Descriptors, Lipinski"
      ],
      "metadata": {
        "execution": {
          "iopub.status.busy": "2023-06-04T18:55:28.695138Z",
          "iopub.execute_input": "2023-06-04T18:55:28.695681Z",
          "iopub.status.idle": "2023-06-04T18:55:28.829875Z",
          "shell.execute_reply.started": "2023-06-04T18:55:28.695614Z",
          "shell.execute_reply": "2023-06-04T18:55:28.827958Z"
        },
        "trusted": true,
        "id": "hmyiK3kdrA74"
      },
      "execution_count": null,
      "outputs": []
    },
    {
      "cell_type": "code",
      "source": [
        "# This function takes a list of SMILES strings as input and calculates Lipinski descriptors for each molecule.\n",
        "#The Lipinski descriptors provide information about the drug-likeness and molecular properties of the compounds.\n",
        "#The function iterates over the list of SMILES strings, converts each string into a molecule object using the RDKit library,\n",
        "#and then calculates descriptors such as the logarithm of the partition coefficient (LogP), the number of hydrogen bond donors (NumHDonors),\n",
        "#and the number of hydrogen bond acceptors (NumHAcceptors) for each molecule. The calculated descriptors are stored in a pandas DataFrame and returned\n",
        "#as the output of the function.\n",
        "def lipinski(smiles, verbose=False):\n",
        "\n",
        "    moldata= []                     # Initialize an empty list to store molecule objects\n",
        "    for elem in smiles:\n",
        "        mol=Chem.MolFromSmiles(elem) # Convert SMILES string to a molecule object\n",
        "        moldata.append(mol)          # Append the molecule object to the moldata list\n",
        "\n",
        "\n",
        "    baseData= np.arange(1,1)        # Initialize an empty numpy array\n",
        "    i=0\n",
        "    for mol in moldata:\n",
        "\n",
        "       # Calculate Lipinski descriptors for each molecule\n",
        "\n",
        "        desc_MolLogP = Descriptors.MolLogP(mol)\n",
        "        desc_NumHDonors = Lipinski.NumHDonors(mol)\n",
        "        desc_NumHAcceptors = Lipinski.NumHAcceptors(mol)\n",
        "\n",
        "        row = np.array([desc_MolLogP,\n",
        "                        desc_NumHDonors,\n",
        "                        desc_NumHAcceptors])\n",
        "\n",
        "        if(i==0):           # If it's the first iteration, assign row to baseData\n",
        "            baseData=row\n",
        "        else:\n",
        "            baseData=np.vstack([baseData, row])   # Vertically stack row on top of baseData for subsequent iterations\n",
        "        i=i+1                                     # Increment the counter variable\n",
        "        i=i+1\n",
        "\n",
        "    columnNames=[\"LogP\",\"NumHDonors\",\"NumHAcceptors\"]    # Column names for the DataFrame\n",
        "    descriptors = pd.DataFrame(data=baseData,columns=columnNames)  # Create a DataFrame with the calculated Lipinski descriptors\n",
        "\n",
        "    return descriptors\n"
      ],
      "metadata": {
        "execution": {
          "iopub.status.busy": "2023-06-04T18:55:28.832527Z",
          "iopub.execute_input": "2023-06-04T18:55:28.832927Z",
          "iopub.status.idle": "2023-06-04T18:55:28.845039Z",
          "shell.execute_reply.started": "2023-06-04T18:55:28.832894Z",
          "shell.execute_reply": "2023-06-04T18:55:28.843718Z"
        },
        "trusted": true,
        "id": "QnsDiAYfrA75"
      },
      "execution_count": null,
      "outputs": []
    },
    {
      "cell_type": "code",
      "source": [
        "df_lipinski = lipinski(df5[\"Smiles\"]) # Calculate Lipinski descriptors for molecules in the \"Smiles\" column of df5\n",
        "df_lipinski"
      ],
      "metadata": {
        "execution": {
          "iopub.status.busy": "2023-06-04T18:55:28.846381Z",
          "iopub.execute_input": "2023-06-04T18:55:28.846752Z",
          "iopub.status.idle": "2023-06-04T18:55:30.13537Z",
          "shell.execute_reply.started": "2023-06-04T18:55:28.846722Z",
          "shell.execute_reply": "2023-06-04T18:55:30.134307Z"
        },
        "trusted": true,
        "id": "cnxgU4DfrA76"
      },
      "execution_count": null,
      "outputs": []
    },
    {
      "cell_type": "markdown",
      "source": [
        "Now let's combine the two dataframes (df5 and df_lipinski) in a new dataframe called df_combined:"
      ],
      "metadata": {
        "id": "2cjZUMtLrA77"
      }
    },
    {
      "cell_type": "code",
      "source": [
        "df_combined = pd.concat([df5,df_lipinski], axis=1)\n",
        "df_combined"
      ],
      "metadata": {
        "execution": {
          "iopub.status.busy": "2023-06-04T18:55:30.13657Z",
          "iopub.execute_input": "2023-06-04T18:55:30.136897Z",
          "iopub.status.idle": "2023-06-04T18:55:30.164597Z",
          "shell.execute_reply.started": "2023-06-04T18:55:30.136871Z",
          "shell.execute_reply": "2023-06-04T18:55:30.16348Z"
        },
        "trusted": true,
        "id": "aJ2LWjzgrA78"
      },
      "execution_count": null,
      "outputs": []
    },
    {
      "cell_type": "markdown",
      "source": [
        "## 4.2 Convert IC50 to pIC50"
      ],
      "metadata": {
        "id": "_RTdC5mPrA79"
      }
    },
    {
      "cell_type": "markdown",
      "source": [
        "In order to make more even the  values of \"Standard Value\" in the dataframe, we convert **IC50** to the **negative logarithmic** scale which is **-log10(IC50)**:"
      ],
      "metadata": {
        "id": "LzgO0kWkrA79"
      }
    },
    {
      "cell_type": "code",
      "source": [
        "df_combined[\"Standard Value\"] = df_combined[\"Standard Value\"] / 1000000000  # Convert from nM to M\n",
        "df_combined[\"Standard Value\"] = -np.log10(df_combined[\"Standard Value\"])  # Apply logarithm\n",
        "df_combined"
      ],
      "metadata": {
        "execution": {
          "iopub.status.busy": "2023-06-04T18:55:30.166218Z",
          "iopub.execute_input": "2023-06-04T18:55:30.166606Z",
          "iopub.status.idle": "2023-06-04T18:55:30.192809Z",
          "shell.execute_reply.started": "2023-06-04T18:55:30.166565Z",
          "shell.execute_reply": "2023-06-04T18:55:30.191511Z"
        },
        "trusted": true,
        "id": "mCcxNVDfrA7-"
      },
      "execution_count": null,
      "outputs": []
    },
    {
      "cell_type": "code",
      "source": [
        "df_combined.rename(columns={'Standard Value': 'pIC50'}, inplace=True)  # Rename the 'Standard Value' column to 'pIC50'\n",
        "df_combined"
      ],
      "metadata": {
        "execution": {
          "iopub.status.busy": "2023-06-04T18:55:30.193986Z",
          "iopub.execute_input": "2023-06-04T18:55:30.194604Z",
          "iopub.status.idle": "2023-06-04T18:55:30.223102Z",
          "shell.execute_reply.started": "2023-06-04T18:55:30.194571Z",
          "shell.execute_reply": "2023-06-04T18:55:30.222071Z"
        },
        "trusted": true,
        "id": "hQ2h-m9erA7-"
      },
      "execution_count": null,
      "outputs": []
    },
    {
      "cell_type": "code",
      "source": [
        "df_combined[\"pIC50\"].describe() # Visualize distribution of pIC50 values"
      ],
      "metadata": {
        "execution": {
          "iopub.status.busy": "2023-06-04T18:55:30.224427Z",
          "iopub.execute_input": "2023-06-04T18:55:30.224794Z",
          "iopub.status.idle": "2023-06-04T18:55:30.241612Z",
          "shell.execute_reply.started": "2023-06-04T18:55:30.224765Z",
          "shell.execute_reply": "2023-06-04T18:55:30.240205Z"
        },
        "trusted": true,
        "id": "Fkzs7sDsrA7_"
      },
      "execution_count": null,
      "outputs": []
    },
    {
      "cell_type": "markdown",
      "source": [
        "Let's write this to CSV file:"
      ],
      "metadata": {
        "id": "f7yjP9N_rA8B"
      }
    },
    {
      "cell_type": "code",
      "source": [
        "df_combined.to_csv('Beta_amyloid_A4_protein_bioactivity_data_curated_and_labelled_3class_pIC50.csv')"
      ],
      "metadata": {
        "execution": {
          "iopub.status.busy": "2023-06-04T18:55:30.243329Z",
          "iopub.execute_input": "2023-06-04T18:55:30.24369Z",
          "iopub.status.idle": "2023-06-04T18:55:30.273998Z",
          "shell.execute_reply.started": "2023-06-04T18:55:30.243661Z",
          "shell.execute_reply": "2023-06-04T18:55:30.272985Z"
        },
        "trusted": true,
        "id": "ND0sGXJXrA8B"
      },
      "execution_count": null,
      "outputs": []
    },
    {
      "cell_type": "markdown",
      "source": [
        "## 4.3 Removing the 'intermediate' bioactivity class"
      ],
      "metadata": {
        "id": "SQJG83oqrA8C"
      }
    },
    {
      "cell_type": "markdown",
      "source": [
        "In order to easily compare between **active** and **inactive** compounds, we have to delete from our analysis intermediate compounds from the dataframe:"
      ],
      "metadata": {
        "id": "CdcY_rLLrA8C"
      }
    },
    {
      "cell_type": "code",
      "source": [
        "df_2class = df_combined[df_combined['class'] != 'intermediate']\n",
        "df_2class"
      ],
      "metadata": {
        "execution": {
          "iopub.status.busy": "2023-06-04T18:55:30.275556Z",
          "iopub.execute_input": "2023-06-04T18:55:30.276293Z",
          "iopub.status.idle": "2023-06-04T18:55:30.302959Z",
          "shell.execute_reply.started": "2023-06-04T18:55:30.276256Z",
          "shell.execute_reply": "2023-06-04T18:55:30.301647Z"
        },
        "trusted": true,
        "id": "LppH8eTTrA8E"
      },
      "execution_count": null,
      "outputs": []
    },
    {
      "cell_type": "markdown",
      "source": [
        "Let's write this to CSV file:"
      ],
      "metadata": {
        "id": "60koK-9-rA8E"
      }
    },
    {
      "cell_type": "code",
      "source": [
        "df_2class.to_csv('Beta_amyloid_A4_protein_bioactivity_data_curated_and_labelled_2class_pIC50.csv')"
      ],
      "metadata": {
        "execution": {
          "iopub.status.busy": "2023-06-04T18:55:30.304506Z",
          "iopub.execute_input": "2023-06-04T18:55:30.304897Z",
          "iopub.status.idle": "2023-06-04T18:55:30.325947Z",
          "shell.execute_reply.started": "2023-06-04T18:55:30.304866Z",
          "shell.execute_reply": "2023-06-04T18:55:30.324469Z"
        },
        "trusted": true,
        "id": "BMYkPO6ZrA8F"
      },
      "execution_count": null,
      "outputs": []
    },
    {
      "cell_type": "markdown",
      "source": [
        "## 4.4 Exploratory Data Analysis  via Lipinski Descriptors"
      ],
      "metadata": {
        "id": "CY1ZpFWgrA8G"
      }
    },
    {
      "cell_type": "markdown",
      "source": [
        "### 4.4.1 How many active and inactive compunds?"
      ],
      "metadata": {
        "id": "bWV8gkFqrA8H"
      }
    },
    {
      "cell_type": "markdown",
      "source": [
        "To begin with, our objective is to determine the count of active and inactive compounds within the dataframe:"
      ],
      "metadata": {
        "id": "AP71npo_rA8I"
      }
    },
    {
      "cell_type": "code",
      "source": [
        "# Import libraries\n",
        "import seaborn as sns\n",
        "sns.set(style='ticks')\n",
        "import matplotlib.pyplot as plt\n",
        "import plotly.express as px"
      ],
      "metadata": {
        "execution": {
          "iopub.status.busy": "2023-06-04T18:55:30.334893Z",
          "iopub.execute_input": "2023-06-04T18:55:30.335272Z",
          "iopub.status.idle": "2023-06-04T18:55:32.097604Z",
          "shell.execute_reply.started": "2023-06-04T18:55:30.335243Z",
          "shell.execute_reply": "2023-06-04T18:55:32.096531Z"
        },
        "trusted": true,
        "id": "RqT_JJRWrA8J"
      },
      "execution_count": null,
      "outputs": []
    },
    {
      "cell_type": "code",
      "source": [
        "plt.figure(figsize=(5.5, 5.5))\n",
        "\n",
        "sns.countplot(x='class', data=df_2class, edgecolor='black')\n",
        "\n",
        "plt.xlabel('Bioactivity class', fontsize=14, fontweight='bold')\n",
        "plt.ylabel('Frequency', fontsize=14, fontweight='bold')\n",
        "\n",
        "plt.savefig('plot_bioactivity_class.pdf')"
      ],
      "metadata": {
        "execution": {
          "iopub.status.busy": "2023-06-04T18:55:32.098995Z",
          "iopub.execute_input": "2023-06-04T18:55:32.099456Z",
          "iopub.status.idle": "2023-06-04T18:55:32.731703Z",
          "shell.execute_reply.started": "2023-06-04T18:55:32.099415Z",
          "shell.execute_reply": "2023-06-04T18:55:32.730488Z"
        },
        "trusted": true,
        "id": "D4QJ_lV8rA8K"
      },
      "execution_count": null,
      "outputs": []
    },
    {
      "cell_type": "markdown",
      "source": [
        "In the dataframe there are **495 inactive compounds** and **449 active compounds**."
      ],
      "metadata": {
        "id": "w__l_wABrA8L"
      }
    },
    {
      "cell_type": "markdown",
      "source": [
        "### 4.4.2 Molecular Weight and LogP chemical spaces"
      ],
      "metadata": {
        "id": "crLHOA3arA8M"
      }
    },
    {
      "cell_type": "markdown",
      "source": [
        "It can be seen that the 2 bioactivity classes are spanning a very similar chemical spaces as evident by the scatter plot of MW vs LogP.\n",
        "\n"
      ],
      "metadata": {
        "id": "TCu99vclrA8N"
      }
    },
    {
      "cell_type": "code",
      "source": [
        "plt.figure(figsize=(5.5, 5.5))\n",
        "\n",
        "sns.scatterplot(x='Molecular Weight', y='LogP', data=df_2class, hue='class', size='pIC50', edgecolor='black', alpha=0.9)\n",
        "\n",
        "plt.xlabel('Molecular Weight', fontsize=14, fontweight='bold')\n",
        "plt.ylabel('LogP', fontsize=14, fontweight='bold')\n",
        "plt.legend(bbox_to_anchor=(1.05, 1), loc=2, borderaxespad=0)\n",
        "plt.savefig('plot_MW_vs_LogP.pdf')"
      ],
      "metadata": {
        "execution": {
          "iopub.status.busy": "2023-06-04T18:55:32.733558Z",
          "iopub.execute_input": "2023-06-04T18:55:32.733986Z",
          "iopub.status.idle": "2023-06-04T18:55:33.892431Z",
          "shell.execute_reply.started": "2023-06-04T18:55:32.733953Z",
          "shell.execute_reply": "2023-06-04T18:55:33.891229Z"
        },
        "trusted": true,
        "id": "rQQ91K8GrA8Q"
      },
      "execution_count": null,
      "outputs": []
    },
    {
      "cell_type": "markdown",
      "source": [
        "### 4.4.3 Distribution of pIC50 Values"
      ],
      "metadata": {
        "id": "x1IwFiX9rA8S"
      }
    },
    {
      "cell_type": "markdown",
      "source": [
        "We aim to examine the distribution of pIC50 values for both active and inactive compounds to assess whether a significant non-overlapping pattern exists between the two classes:"
      ],
      "metadata": {
        "id": "c1QqPfr1rA8T"
      }
    },
    {
      "cell_type": "code",
      "source": [
        "plt.figure(figsize=(5.5, 5.5))\n",
        "\n",
        "sns.boxplot(x = 'class', y = 'pIC50', data = df_2class)\n",
        "\n",
        "plt.xlabel('Bioactivity class', fontsize=14, fontweight='bold')\n",
        "plt.ylabel('pIC50 value', fontsize=14, fontweight='bold')\n",
        "plt.savefig('plot_ic50.pdf')"
      ],
      "metadata": {
        "execution": {
          "iopub.status.busy": "2023-06-04T18:55:33.894127Z",
          "iopub.execute_input": "2023-06-04T18:55:33.895277Z",
          "iopub.status.idle": "2023-06-04T18:55:34.2879Z",
          "shell.execute_reply.started": "2023-06-04T18:55:33.895239Z",
          "shell.execute_reply": "2023-06-04T18:55:34.286422Z"
        },
        "trusted": true,
        "id": "dsczvpF1rA8T"
      },
      "execution_count": null,
      "outputs": []
    },
    {
      "cell_type": "code",
      "source": [
        "# Select only the rows in the DataFrame where the \"class\" column is equal to \"active\" and calculate descriptive statistics using the describe() function.\n",
        "df_2class[df_2class[\"class\"] == \"active\"].describe()"
      ],
      "metadata": {
        "execution": {
          "iopub.status.busy": "2023-06-04T18:55:34.289425Z",
          "iopub.execute_input": "2023-06-04T18:55:34.289795Z",
          "iopub.status.idle": "2023-06-04T18:55:34.321999Z",
          "shell.execute_reply.started": "2023-06-04T18:55:34.289764Z",
          "shell.execute_reply": "2023-06-04T18:55:34.320872Z"
        },
        "trusted": true,
        "id": "VFPqt0JTrA8U"
      },
      "execution_count": null,
      "outputs": []
    },
    {
      "cell_type": "code",
      "source": [
        "# Select only the rows in the DataFrame where the \"class\" column is equal to \"inactive\" and calculate descriptive statistics using the describe() function.\n",
        "df_2class[df_2class[\"class\"] == \"inactive\"].describe()"
      ],
      "metadata": {
        "execution": {
          "iopub.status.busy": "2023-06-04T18:55:34.323887Z",
          "iopub.execute_input": "2023-06-04T18:55:34.324341Z",
          "iopub.status.idle": "2023-06-04T18:55:34.35565Z",
          "shell.execute_reply.started": "2023-06-04T18:55:34.324301Z",
          "shell.execute_reply": "2023-06-04T18:55:34.354332Z"
        },
        "trusted": true,
        "id": "pMMSUt49rA8W"
      },
      "execution_count": null,
      "outputs": []
    },
    {
      "cell_type": "markdown",
      "source": [
        "The distribution of **active** compounds exhibits a wide range, with pIC50 values ranging from 6 to 9.5 and a mean of 7.3. No outliers are detected within this distribution.\n",
        "\n",
        "In contrast, the distribution of **inactive** compounds appears more flattened, with pIC50 values ranging from 3.1 to 5 and a mean of 4.5. There are  visible outlier points below the minimum value in this distribution."
      ],
      "metadata": {
        "id": "IUySxTlcrA8X"
      }
    },
    {
      "cell_type": "markdown",
      "source": [
        "### 4.4.4 Distribution of Molecular Weights Values"
      ],
      "metadata": {
        "id": "qgPUM_EhrA8Y"
      }
    },
    {
      "cell_type": "markdown",
      "source": [
        "We aim to examine the distribution of molecular weight values for both active and inactive compounds to assess whether a significant non-overlapping pattern exists between the two classes:"
      ],
      "metadata": {
        "id": "m9cLGXnLrA8Z"
      }
    },
    {
      "cell_type": "code",
      "source": [
        "plt.figure(figsize=(5.5, 5.5))\n",
        "\n",
        "sns.boxplot(x = 'class', y = 'Molecular Weight', data = df_2class)\n",
        "\n",
        "plt.xlabel('Bioactivity class', fontsize=14, fontweight='bold')\n",
        "plt.ylabel('MW', fontsize=14, fontweight='bold')\n",
        "plt.savefig('plot_MW.pdf')"
      ],
      "metadata": {
        "execution": {
          "iopub.status.busy": "2023-06-04T18:55:34.35758Z",
          "iopub.execute_input": "2023-06-04T18:55:34.358053Z",
          "iopub.status.idle": "2023-06-04T18:55:34.753422Z",
          "shell.execute_reply.started": "2023-06-04T18:55:34.358012Z",
          "shell.execute_reply": "2023-06-04T18:55:34.752605Z"
        },
        "trusted": true,
        "id": "LNNT8ybfrA8a"
      },
      "execution_count": null,
      "outputs": []
    },
    {
      "cell_type": "code",
      "source": [
        "# Compute descriptive statistics for the \"Molecular Weight\" column using the describe() function.\n",
        "df_2class[\"Molecular Weight\"].describe()"
      ],
      "metadata": {
        "execution": {
          "iopub.status.busy": "2023-06-04T18:55:34.754579Z",
          "iopub.execute_input": "2023-06-04T18:55:34.755328Z",
          "iopub.status.idle": "2023-06-04T18:55:34.768116Z",
          "shell.execute_reply.started": "2023-06-04T18:55:34.755295Z",
          "shell.execute_reply": "2023-06-04T18:55:34.766732Z"
        },
        "trusted": true,
        "id": "Hqain_64rA8b"
      },
      "execution_count": null,
      "outputs": []
    },
    {
      "cell_type": "markdown",
      "source": [
        "Based on the molecular weight descriptor, there is no clear discrimination between active and inactive compounds. Both classes of compounds appear to cover a similar range, starting from 123 Daltons and reaching a maximum of 790 Daltons, with numerous outlier points beyond the maximum value."
      ],
      "metadata": {
        "id": "fXd61BifrA8c"
      }
    },
    {
      "cell_type": "markdown",
      "source": [
        "### 4.4.5 Distribution of LogP Values"
      ],
      "metadata": {
        "id": "KMlQCTX3rA8c"
      }
    },
    {
      "cell_type": "markdown",
      "source": [
        "We aim to examine the distribution of LogP values for both active and inactive compounds to assess whether a significant non-overlapping pattern exists between the two classes:"
      ],
      "metadata": {
        "id": "b2ZpBQcirA8d"
      }
    },
    {
      "cell_type": "code",
      "source": [
        "plt.figure(figsize=(5.5, 5.5))\n",
        "\n",
        "sns.boxplot(x = 'class', y = 'LogP', data = df_2class)\n",
        "\n",
        "plt.xlabel('Bioactivity class', fontsize=14, fontweight='bold')\n",
        "plt.ylabel('LogP', fontsize=14, fontweight='bold')\n",
        "plt.savefig('plot_LogP.pdf')"
      ],
      "metadata": {
        "execution": {
          "iopub.status.busy": "2023-06-04T18:55:34.769653Z",
          "iopub.execute_input": "2023-06-04T18:55:34.770332Z",
          "iopub.status.idle": "2023-06-04T18:55:35.177519Z",
          "shell.execute_reply.started": "2023-06-04T18:55:34.770244Z",
          "shell.execute_reply": "2023-06-04T18:55:35.17637Z"
        },
        "trusted": true,
        "id": "cgrB7jyurA8e"
      },
      "execution_count": null,
      "outputs": []
    },
    {
      "cell_type": "code",
      "source": [
        "# Compute descriptive statistics for the \"LogP\" column using the describe() function.\n",
        "df_2class[\"LogP\"].describe()"
      ],
      "metadata": {
        "execution": {
          "iopub.status.busy": "2023-06-04T18:55:35.17912Z",
          "iopub.execute_input": "2023-06-04T18:55:35.179811Z",
          "iopub.status.idle": "2023-06-04T18:55:35.19196Z",
          "shell.execute_reply.started": "2023-06-04T18:55:35.179759Z",
          "shell.execute_reply": "2023-06-04T18:55:35.191015Z"
        },
        "trusted": true,
        "id": "vmXXZ5BFrA8e"
      },
      "execution_count": null,
      "outputs": []
    },
    {
      "cell_type": "markdown",
      "source": [
        "Based on the LogP descriptor, there is no clear discrimination between active and inactive compounds. Both classes of compounds appear to cover a similar large range, starting from -3.8 and reaching a maximum of 12.7, including the numerous outlier points below and beyond the distributions."
      ],
      "metadata": {
        "id": "tAFYH5TWrA8f"
      }
    },
    {
      "cell_type": "markdown",
      "source": [
        "### 4.4.6 Distribution of Hydrogen Bond Donor Groups"
      ],
      "metadata": {
        "id": "jTVvmXB6rA8h"
      }
    },
    {
      "cell_type": "markdown",
      "source": [
        "We aim to examine the distribution of hydrogen bond donor groups  values for both active and inactive compounds to assess whether a significant non-overlapping pattern exists between the two classes:"
      ],
      "metadata": {
        "id": "DJse6UhjrA8h"
      }
    },
    {
      "cell_type": "code",
      "source": [
        "plt.figure(figsize=(5.5, 5.5))\n",
        "\n",
        "sns.boxplot(x = 'class', y = 'NumHDonors', data = df_2class)\n",
        "\n",
        "plt.xlabel('Bioactivity class', fontsize=14, fontweight='bold')\n",
        "plt.ylabel('NumHDonors', fontsize=14, fontweight='bold')\n",
        "plt.savefig('plot_NumHDonors.pdf')"
      ],
      "metadata": {
        "execution": {
          "iopub.status.busy": "2023-06-04T18:55:35.19336Z",
          "iopub.execute_input": "2023-06-04T18:55:35.193933Z",
          "iopub.status.idle": "2023-06-04T18:55:35.612612Z",
          "shell.execute_reply.started": "2023-06-04T18:55:35.193894Z",
          "shell.execute_reply": "2023-06-04T18:55:35.611309Z"
        },
        "trusted": true,
        "id": "VecbIfk4rA8i"
      },
      "execution_count": null,
      "outputs": []
    },
    {
      "cell_type": "code",
      "source": [
        "#Filter the DataFrame df_2class to include only the rows where the \"class\" column is equal to \"active\"\n",
        "#Select the \"NumHDonors\" column from the filtered DataFrame\n",
        "#Calculate the descriptive statistics using the describe() function\n",
        "print(\"Hydrogen Bond Donor Groups descripive statistics for active compunds\")\n",
        "df_2class[df_2class[\"class\"] == \"active\"][\"NumHDonors\"].describe()"
      ],
      "metadata": {
        "execution": {
          "iopub.status.busy": "2023-06-04T18:55:35.61401Z",
          "iopub.execute_input": "2023-06-04T18:55:35.614578Z",
          "iopub.status.idle": "2023-06-04T18:55:35.628076Z",
          "shell.execute_reply.started": "2023-06-04T18:55:35.614547Z",
          "shell.execute_reply": "2023-06-04T18:55:35.627215Z"
        },
        "trusted": true,
        "id": "EWPln0B6rA8j"
      },
      "execution_count": null,
      "outputs": []
    },
    {
      "cell_type": "code",
      "source": [
        "#Filter the DataFrame df_2class to include only the rows where the \"class\" column is equal to \"inactive\"\n",
        "#Select the \"NumHDonors\" column from the filtered DataFrame\n",
        "#Calculate the descriptive statistics using the describe() function\n",
        "print(\"Hydrogen Bond Donor Groups descripive statistics for inactive compunds\")\n",
        "df_2class[df_2class[\"class\"] == \"inactive\"][\"NumHDonors\"].describe()"
      ],
      "metadata": {
        "execution": {
          "iopub.status.busy": "2023-06-04T18:55:35.629526Z",
          "iopub.execute_input": "2023-06-04T18:55:35.629913Z",
          "iopub.status.idle": "2023-06-04T18:55:35.654214Z",
          "shell.execute_reply.started": "2023-06-04T18:55:35.629881Z",
          "shell.execute_reply": "2023-06-04T18:55:35.652897Z"
        },
        "trusted": true,
        "id": "hFs4laeHrA8w"
      },
      "execution_count": null,
      "outputs": []
    },
    {
      "cell_type": "markdown",
      "source": [
        "Based on the analysis of hydrogen bond donor groups, a **partial discrimination** between active and inactive compounds can be observed. While there is some overlap between the two classes when the number of hydrogen bond donor groups ranges from 0 to 3, **no active compounds (excluding outlier points) are observed beyond 3 hydrogen bond donor groups.**"
      ],
      "metadata": {
        "id": "W6xNCRgPrA8y"
      }
    },
    {
      "cell_type": "markdown",
      "source": [
        "### 4.4.7 Distribution of Hydrogen Bond Acceptor Groups"
      ],
      "metadata": {
        "id": "IJNjvwEVrA8z"
      }
    },
    {
      "cell_type": "markdown",
      "source": [
        "We aim to examine the distribution of hydrogen bond acceptor groups values for both active and inactive compounds to assess whether a significant non-overlapping pattern exists between the two classes:"
      ],
      "metadata": {
        "id": "6Ek8bol-rA80"
      }
    },
    {
      "cell_type": "code",
      "source": [
        "plt.figure(figsize=(5.5, 5.5))\n",
        "\n",
        "sns.boxplot(x = 'class', y = 'NumHAcceptors', data = df_2class)\n",
        "\n",
        "plt.xlabel('Bioactivity class', fontsize=14, fontweight='bold')\n",
        "plt.ylabel('NumHAcceptors', fontsize=14, fontweight='bold')\n",
        "plt.savefig('plot_NumHAcceptors.pdf')"
      ],
      "metadata": {
        "execution": {
          "iopub.status.busy": "2023-06-04T18:55:35.657318Z",
          "iopub.execute_input": "2023-06-04T18:55:35.657735Z",
          "iopub.status.idle": "2023-06-04T18:55:36.080595Z",
          "shell.execute_reply.started": "2023-06-04T18:55:35.657703Z",
          "shell.execute_reply": "2023-06-04T18:55:36.078959Z"
        },
        "trusted": true,
        "id": "gpky7d17rA80"
      },
      "execution_count": null,
      "outputs": []
    },
    {
      "cell_type": "markdown",
      "source": [
        "Based on the analysis of hydrogen bond acceptor groups, no significant discrimination between active and inactive compounds is evident. However, one observation is worth noting: **below a threshold of 2 hydrogen bond acceptor groups, no active compounds are observed** (excluding the 2 outlier points)."
      ],
      "metadata": {
        "id": "TSuXb7LFrA81"
      }
    },
    {
      "cell_type": "markdown",
      "source": [
        "## 4.5 Key Findings: Exploratory Data Analysis (EDA)"
      ],
      "metadata": {
        "id": "OQyGzuR7rA82"
      }
    },
    {
      "cell_type": "markdown",
      "source": [
        "\n",
        "   **pIC50 values**\n",
        "<div style=\"background-color: #9AFF9A; padding: 10px;\">\n",
        "Taking a look at pIC50 values, the actives and inactives displayed statistically significant difference, which is to be expected since threshold values (IC50 < 1,000 nM = Actives while IC50 > 10,000 nM = Inactives, corresponding to pIC50 > 6 = Actives and pIC50 < 5 = Inactives) were used to define actives and inactives.\n",
        "</div>"
      ],
      "metadata": {
        "id": "fcea7fGGrA83"
      }
    },
    {
      "cell_type": "markdown",
      "source": [
        "**Lipinski's descriptors**\n",
        "<div style=\"background-color: #FF8080; padding: 10px;\">\n",
        "All of the 4 Lipinski's descriptors exhibited no statistically significant difference between the actives and inactives.\n",
        "</div>\n",
        "    \n",
        "<div style=\"background-color: #9AFF9A; padding: 10px;\">\n",
        "Based only on the analysis of hydrogen bond donor groups, a partial discrimination between active and inactive compounds can be observed. While there is some overlap between the two classes when the number of hydrogen bond donor groups ranges from 0 to 3, no active compounds (excluding outlier points) are observed beyond 3 hydrogen bond donor groups."
      ],
      "metadata": {
        "id": "YDZGxDvDrA84"
      }
    },
    {
      "cell_type": "markdown",
      "source": [
        "***"
      ],
      "metadata": {
        "id": "59GausXzrA85"
      }
    },
    {
      "cell_type": "markdown",
      "source": [
        "# 5. Descriptor Calculation and Dataset Preparation"
      ],
      "metadata": {
        "id": "SBfQ3wU-rA85"
      }
    },
    {
      "cell_type": "markdown",
      "source": [
        "In this section, we will be calculating molecular descriptors that are essentially **quantitative description of the compounds in the dataset**. Finally, we will be preparing this into a dataset for subsequent model building in part 6."
      ],
      "metadata": {
        "id": "OY7neHTZrA86"
      }
    },
    {
      "cell_type": "markdown",
      "source": [
        "**Molecular descriptors** are numerical representations or properties that describe the characteristics of a molecule. These descriptors can capture various aspects of a molecule's structure, such as its size, shape, polarity, and chemical composition. Molecular descriptors provide quantitative information that can be used to compare and analyze different molecules.\n",
        "\n",
        "On the other hand, a **fingerprint** in the context of molecular chemistry refers to a binary representation of a molecule's structural features or substructures. It is typically derived from the molecular structure using algorithms or mathematical methods. Molecular fingerprints encode information about the presence or absence of certain chemical features or patterns in a molecule. Fingerprinting techniques are commonly used in chemical informatics and drug discovery to compare molecules, identify similar compounds, or perform virtual screening of large compound libraries."
      ],
      "metadata": {
        "id": "zdzdPZR7rA86"
      }
    },
    {
      "cell_type": "code",
      "source": [
        "# Download PaDEL-Descriptor\n",
        "\n",
        "#PaDEL (Passive ADME (Absorption, Distribution, Metabolism, and Excretion) Learning) descriptors are a set of molecular descriptors calculated\n",
        "#using the PaDEL-Descriptor software. These descriptors provide quantitative information about various molecular properties, including chemical\n",
        "#features, topological information, constitutional characteristics, and substructure patterns. PaDEL descriptors can be used to assess the pharmacokinetic\n",
        "#and physicochemical properties of compounds, aiding in drug discovery and development processes.\n",
        "\n",
        "#PaDEL-Descriptor calculates a comprehensive set of over 5,000 descriptors for a given molecule, covering a wide range of structural and physicochemical attributes.\n",
        "#These descriptors include features such as molecular weight, logP (partition coefficient), hydrogen bond donor/acceptor counts, polar surface area, and many others.\n",
        "#PaDEL-Descriptor is widely used in chemoinformatics and computational chemistry to extract relevant information from chemical structures and facilitate quantitative\n",
        "#structure-activity relationship (QSAR) modeling, virtual screening, and compound property prediction.\n",
        "\n",
        "! wget https://github.com/dataprofessor/bioinformatics/raw/master/padel.zip\n",
        "! wget https://github.com/dataprofessor/bioinformatics/raw/master/padel.sh"
      ],
      "metadata": {
        "execution": {
          "iopub.status.busy": "2023-06-04T18:55:36.082042Z",
          "iopub.execute_input": "2023-06-04T18:55:36.082415Z",
          "iopub.status.idle": "2023-06-04T18:55:38.997697Z",
          "shell.execute_reply.started": "2023-06-04T18:55:36.082383Z",
          "shell.execute_reply": "2023-06-04T18:55:38.996056Z"
        },
        "trusted": true,
        "id": "gwyrsiBOrA87"
      },
      "execution_count": null,
      "outputs": []
    },
    {
      "cell_type": "code",
      "source": [
        "! unzip padel.zip"
      ],
      "metadata": {
        "execution": {
          "iopub.status.busy": "2023-06-04T18:55:39.000504Z",
          "iopub.execute_input": "2023-06-04T18:55:39.001059Z",
          "iopub.status.idle": "2023-06-04T18:55:40.386797Z",
          "shell.execute_reply.started": "2023-06-04T18:55:39.001012Z",
          "shell.execute_reply": "2023-06-04T18:55:40.385146Z"
        },
        "trusted": true,
        "id": "6fyNEJOurA88"
      },
      "execution_count": null,
      "outputs": []
    },
    {
      "cell_type": "markdown",
      "source": [
        "In this analysis, we will utilize the **Beta_amyloid_A4_protein_bioactivity_data_curated_and_labelled_3class_pIC50.csv** file, which contains the curated and labeled data for three classes of molecule bioactivity: active, inactive, and intermediate. We will specifically focus on the pIC50 values from this dataset to construct a regression model."
      ],
      "metadata": {
        "id": "onZCb6y0rA88"
      }
    },
    {
      "cell_type": "code",
      "source": [
        "# Load Beta_amyloid_A4_protein_bioactivity_data_curated_and_labelled_3class_pIC50.csv file and save it in the df_padel dataframe\n",
        "df_padel = pd.read_csv('/kaggle/working/Beta_amyloid_A4_protein_bioactivity_data_curated_and_labelled_3class_pIC50.csv')\n",
        "df_padel"
      ],
      "metadata": {
        "execution": {
          "iopub.status.busy": "2023-06-04T18:55:40.389555Z",
          "iopub.execute_input": "2023-06-04T18:55:40.390161Z",
          "iopub.status.idle": "2023-06-04T18:55:40.434583Z",
          "shell.execute_reply.started": "2023-06-04T18:55:40.390109Z",
          "shell.execute_reply": "2023-06-04T18:55:40.433162Z"
        },
        "trusted": true,
        "id": "GRMmyaCirA89"
      },
      "execution_count": null,
      "outputs": []
    },
    {
      "cell_type": "markdown",
      "source": [
        "## 5.1 Calculate Fingerprint Descriptors"
      ],
      "metadata": {
        "id": "dDSYLZnwrA89"
      }
    },
    {
      "cell_type": "markdown",
      "source": [
        "Lets' select only **Smiles** along with the **Molecule ChEMBL** ID columns and let's put them in the new dataframe df3_selection:"
      ],
      "metadata": {
        "id": "5vEbXwt_rA8-"
      }
    },
    {
      "cell_type": "code",
      "source": [
        "selection = ['Smiles','Molecule ChEMBL ID']  # Define the selection of columns\n",
        "df3_selection = df_padel[selection]          # Select the desired columns from df_padel\n",
        "df3_selection.to_csv('molecule.smi', sep='\\t', index=False, header=False) # Save the selected columns to a file named 'molecule.smi' in tab-separated format"
      ],
      "metadata": {
        "execution": {
          "iopub.status.busy": "2023-06-04T18:55:40.436574Z",
          "iopub.execute_input": "2023-06-04T18:55:40.43696Z",
          "iopub.status.idle": "2023-06-04T18:55:40.455482Z",
          "shell.execute_reply.started": "2023-06-04T18:55:40.43693Z",
          "shell.execute_reply": "2023-06-04T18:55:40.454039Z"
        },
        "trusted": true,
        "id": "0jtjpmcZrA8-"
      },
      "execution_count": null,
      "outputs": []
    },
    {
      "cell_type": "code",
      "source": [
        "! cat molecule.smi | head -5      # Ensure molecule.smi file is not empty"
      ],
      "metadata": {
        "execution": {
          "iopub.status.busy": "2023-06-04T18:55:40.457996Z",
          "iopub.execute_input": "2023-06-04T18:55:40.458479Z",
          "iopub.status.idle": "2023-06-04T18:55:41.568712Z",
          "shell.execute_reply.started": "2023-06-04T18:55:40.458437Z",
          "shell.execute_reply": "2023-06-04T18:55:41.566871Z"
        },
        "trusted": true,
        "id": "2ieCBkqxrA8_"
      },
      "execution_count": null,
      "outputs": []
    },
    {
      "cell_type": "code",
      "source": [
        "! cat molecule.smi | wc -l  # Count the number of molecules in the molecule.smi file"
      ],
      "metadata": {
        "execution": {
          "iopub.status.busy": "2023-06-04T18:55:41.57132Z",
          "iopub.execute_input": "2023-06-04T18:55:41.571759Z",
          "iopub.status.idle": "2023-06-04T18:55:42.688642Z",
          "shell.execute_reply.started": "2023-06-04T18:55:41.571723Z",
          "shell.execute_reply": "2023-06-04T18:55:42.686838Z"
        },
        "trusted": true,
        "id": "AnrqZUC6rA9A"
      },
      "execution_count": null,
      "outputs": []
    },
    {
      "cell_type": "markdown",
      "source": [
        "### 5.1.1 Calculate PaDEL Descriptors"
      ],
      "metadata": {
        "id": "tEVA4bIfrA9B"
      }
    },
    {
      "cell_type": "code",
      "source": [
        "!pip install padelpy\n",
        "! bash padel.sh   # Run padel descriptors on the molecules in the molecule.smi file and write them in the descriptors_output.csv"
      ],
      "metadata": {
        "execution": {
          "iopub.status.busy": "2023-06-04T18:55:42.69114Z",
          "iopub.execute_input": "2023-06-04T18:55:42.691542Z",
          "iopub.status.idle": "2023-06-04T18:58:48.263956Z",
          "shell.execute_reply.started": "2023-06-04T18:55:42.691507Z",
          "shell.execute_reply": "2023-06-04T18:58:48.262498Z"
        },
        "trusted": true,
        "id": "nRpAAB7TrA9C"
      },
      "execution_count": null,
      "outputs": []
    },
    {
      "cell_type": "code",
      "source": [
        "! ls -l  # Ensure descriptors_output.csv is present"
      ],
      "metadata": {
        "execution": {
          "iopub.status.busy": "2023-06-04T18:58:48.266553Z",
          "iopub.execute_input": "2023-06-04T18:58:48.267108Z",
          "iopub.status.idle": "2023-06-04T18:58:49.382959Z",
          "shell.execute_reply.started": "2023-06-04T18:58:48.267059Z",
          "shell.execute_reply": "2023-06-04T18:58:49.381783Z"
        },
        "trusted": true,
        "id": "i1thrhnirA9D"
      },
      "execution_count": null,
      "outputs": []
    },
    {
      "cell_type": "markdown",
      "source": [
        "## 5.2 Preparing the X and Y Data Matrices"
      ],
      "metadata": {
        "id": "8-bLyYUXrA9E"
      }
    },
    {
      "cell_type": "markdown",
      "source": [
        "### 5.2.1 Prepare X matrix"
      ],
      "metadata": {
        "id": "Bk-eF4LerA9E"
      }
    },
    {
      "cell_type": "markdown",
      "source": [
        "Let's save the Padel calculated descriptors in a new dataframe, **df3_X**, where \"X\" represents the **Padel feature that will be used as an independent variable in the ML models** that will be built in Part 4:"
      ],
      "metadata": {
        "id": "7Ur18M-CrA9F"
      }
    },
    {
      "cell_type": "code",
      "source": [
        "df3_X = pd.read_csv('descriptors_output.csv')\n",
        "df3_X"
      ],
      "metadata": {
        "execution": {
          "iopub.status.busy": "2023-06-04T18:58:49.384668Z",
          "iopub.execute_input": "2023-06-04T18:58:49.385076Z",
          "iopub.status.idle": "2023-06-04T18:58:49.831757Z",
          "shell.execute_reply.started": "2023-06-04T18:58:49.385043Z",
          "shell.execute_reply": "2023-06-04T18:58:49.830416Z"
        },
        "trusted": true,
        "id": "pt9C1TKGrA9G"
      },
      "execution_count": null,
      "outputs": []
    },
    {
      "cell_type": "code",
      "source": [
        "df3_X = df3_X.drop(columns=['Name']) # Drop the 'Name' column from df3_X, since it is not a Padel numerical descriptor\n",
        "df3_X"
      ],
      "metadata": {
        "execution": {
          "iopub.status.busy": "2023-06-04T18:58:49.83325Z",
          "iopub.execute_input": "2023-06-04T18:58:49.833606Z",
          "iopub.status.idle": "2023-06-04T18:58:49.865973Z",
          "shell.execute_reply.started": "2023-06-04T18:58:49.833576Z",
          "shell.execute_reply": "2023-06-04T18:58:49.864715Z"
        },
        "trusted": true,
        "id": "SbZfr5kWrA9G"
      },
      "execution_count": null,
      "outputs": []
    },
    {
      "cell_type": "markdown",
      "source": [
        "### 5.2.2 Prepare Y matrix"
      ],
      "metadata": {
        "id": "t-HKOpMQrA9J"
      }
    },
    {
      "cell_type": "markdown",
      "source": [
        "Let's store the **pIC50** values in a new dataframe called df3_Y, where **\"Y\" represents the target values that will be attempted to be predicted in the ML models** to be built in Part 4:"
      ],
      "metadata": {
        "id": "7DKY_DCnrA9J"
      }
    },
    {
      "cell_type": "code",
      "source": [
        "df3_Y = df_padel['pIC50']\n",
        "df3_Y"
      ],
      "metadata": {
        "execution": {
          "iopub.status.busy": "2023-06-04T18:58:49.867724Z",
          "iopub.execute_input": "2023-06-04T18:58:49.868154Z",
          "iopub.status.idle": "2023-06-04T18:58:49.879362Z",
          "shell.execute_reply.started": "2023-06-04T18:58:49.868116Z",
          "shell.execute_reply": "2023-06-04T18:58:49.878148Z"
        },
        "trusted": true,
        "id": "FM16BoEDrA9K"
      },
      "execution_count": null,
      "outputs": []
    },
    {
      "cell_type": "markdown",
      "source": [
        "### 5.2.3 Combining X and Y variable"
      ],
      "metadata": {
        "id": "3_jeKBXarA9K"
      }
    },
    {
      "cell_type": "markdown",
      "source": [
        "Finally, let's combine X and Y variables in a final dataframe, dataset3:"
      ],
      "metadata": {
        "id": "EidFuZJRrA9M"
      }
    },
    {
      "cell_type": "code",
      "source": [
        "dataset3 = pd.concat([df3_X,df3_Y], axis=1)  # Concatenate df3_X and df3_Y along the columns axis to create a new dataframe, dataset3\n",
        "dataset3"
      ],
      "metadata": {
        "execution": {
          "iopub.status.busy": "2023-06-04T18:58:49.880877Z",
          "iopub.execute_input": "2023-06-04T18:58:49.881219Z",
          "iopub.status.idle": "2023-06-04T18:58:49.920412Z",
          "shell.execute_reply.started": "2023-06-04T18:58:49.881191Z",
          "shell.execute_reply": "2023-06-04T18:58:49.919273Z"
        },
        "trusted": true,
        "id": "Aljjc-JqrA9M"
      },
      "execution_count": null,
      "outputs": []
    },
    {
      "cell_type": "markdown",
      "source": [
        "dataset3 dataframe contains **881 input features and 1 output variable (pIC50 values)**."
      ],
      "metadata": {
        "id": "14XJGXrTrA9N"
      }
    },
    {
      "cell_type": "code",
      "source": [
        "# Let's download the CSV file  for the Part 4 (Model Building)\n",
        "dataset3.to_csv('Beta_amyloid_A4_protein_bioactivity_data_3class_pIC50_pubchem_fp.csv', index=False)"
      ],
      "metadata": {
        "execution": {
          "iopub.status.busy": "2023-06-04T18:58:49.921945Z",
          "iopub.execute_input": "2023-06-04T18:58:49.92303Z",
          "iopub.status.idle": "2023-06-04T18:58:50.243498Z",
          "shell.execute_reply.started": "2023-06-04T18:58:49.922992Z",
          "shell.execute_reply": "2023-06-04T18:58:50.242362Z"
        },
        "trusted": true,
        "id": "vv1riBpQrA9O"
      },
      "execution_count": null,
      "outputs": []
    },
    {
      "cell_type": "markdown",
      "source": [
        "***"
      ],
      "metadata": {
        "id": "9r2M7scorA9T"
      }
    },
    {
      "cell_type": "markdown",
      "source": [
        "# 6 Predictive Regression Models using Machine Learning"
      ],
      "metadata": {
        "id": "aY8OIRcFrA9U"
      }
    },
    {
      "cell_type": "code",
      "source": [
        "#Import libraries\n",
        "from sklearn.model_selection import train_test_split\n",
        "from sklearn.ensemble import RandomForestRegressor\n",
        "from sklearn.linear_model import LinearRegression\n",
        "from sklearn.metrics import mean_squared_error"
      ],
      "metadata": {
        "execution": {
          "iopub.status.busy": "2023-06-04T18:58:50.245057Z",
          "iopub.execute_input": "2023-06-04T18:58:50.246289Z",
          "iopub.status.idle": "2023-06-04T18:58:50.875389Z",
          "shell.execute_reply.started": "2023-06-04T18:58:50.246244Z",
          "shell.execute_reply": "2023-06-04T18:58:50.87418Z"
        },
        "trusted": true,
        "id": "vugpY2PrrA9V"
      },
      "execution_count": null,
      "outputs": []
    },
    {
      "cell_type": "markdown",
      "source": [
        "## 6.1 Remove Low Variance Features"
      ],
      "metadata": {
        "id": "N57mVlsqrA9W"
      }
    },
    {
      "cell_type": "markdown",
      "source": [
        "Removing low variance features involves identifying the **features whose values remain almost constant or vary very little across the dataset**. These features **contribute minimal or no useful information to the learning algorithm** and can potentially hinder its performance, as well make process slower and less efficient."
      ],
      "metadata": {
        "id": "vBbE7WHUrA9X"
      }
    },
    {
      "cell_type": "code",
      "source": [
        "from sklearn.feature_selection import VarianceThreshold\n",
        "threshold=(.8 * (1 - .8))                   # Define the threshold value as 80% of the variance between 0 and 1\n",
        "selection = VarianceThreshold(threshold)    # Create an instance of VarianceThreshold with the defined threshold\n",
        "X = selection.fit_transform(df3_X)          # Apply the feature selection to the input dataframe df3_X\n",
        "X.shape                                     # Print the shape of the transformed data"
      ],
      "metadata": {
        "execution": {
          "iopub.status.busy": "2023-06-04T18:58:50.878688Z",
          "iopub.execute_input": "2023-06-04T18:58:50.879758Z",
          "iopub.status.idle": "2023-06-04T18:58:50.975971Z",
          "shell.execute_reply.started": "2023-06-04T18:58:50.879711Z",
          "shell.execute_reply": "2023-06-04T18:58:50.974684Z"
        },
        "trusted": true,
        "id": "twyjgtSJrA9Y"
      },
      "execution_count": null,
      "outputs": []
    },
    {
      "cell_type": "markdown",
      "source": [
        "Out of the 881 input features in the dataset, **only 177 features have a variance equal to or higher than 80% within the range of 0 to 1**. These 177 features will be used exclusively for constructing machine learning models, while the remaining features will be disregarded."
      ],
      "metadata": {
        "id": "3LOXuzk0rA9Z"
      }
    },
    {
      "cell_type": "markdown",
      "source": [
        "## 6.2 Data split"
      ],
      "metadata": {
        "id": "plQ14pgzrA9a"
      }
    },
    {
      "cell_type": "code",
      "source": [
        "Y = df3_Y    # Assign the dataset name \"df3_Y\" to the variable name \"Y\".\n",
        "Y.shape"
      ],
      "metadata": {
        "execution": {
          "iopub.status.busy": "2023-06-04T18:58:50.977853Z",
          "iopub.execute_input": "2023-06-04T18:58:50.978323Z",
          "iopub.status.idle": "2023-06-04T18:58:50.986049Z",
          "shell.execute_reply.started": "2023-06-04T18:58:50.978282Z",
          "shell.execute_reply": "2023-06-04T18:58:50.984838Z"
        },
        "trusted": true,
        "id": "v5uSCcnhrA9a"
      },
      "execution_count": null,
      "outputs": []
    },
    {
      "cell_type": "markdown",
      "source": [
        "To split the data into **training and testing sets**, we will use the train_test_split function. Additionally, we will further divide the training data into a validation set, which will be used for fine-tuning the model. The split will be done as follows:\n",
        "\n",
        "The parameter **\"test_size\" will be set to 0.2**, which means that 80% of the dataset will be used for training the model, and the remaining 20% will be used for testing it.\n",
        "The training data and test data will be assigned to the following labels:\n",
        "\n",
        "**X_train**: Training data features;\n",
        "**X_test**: Testing data features;\n",
        "**Y_train**: Training data target variable;\n",
        "**Y_test**: Testing data target variable;"
      ],
      "metadata": {
        "id": "GNmGl3q8rA9b"
      }
    },
    {
      "cell_type": "code",
      "source": [
        "X_train, X_test, Y_train, Y_test = train_test_split(X, Y, test_size=0.2)"
      ],
      "metadata": {
        "execution": {
          "iopub.status.busy": "2023-06-04T18:58:50.987432Z",
          "iopub.execute_input": "2023-06-04T18:58:50.987762Z",
          "iopub.status.idle": "2023-06-04T18:58:51.005464Z",
          "shell.execute_reply.started": "2023-06-04T18:58:50.987735Z",
          "shell.execute_reply": "2023-06-04T18:58:51.00404Z"
        },
        "trusted": true,
        "id": "7iJrqiYVrA9c"
      },
      "execution_count": null,
      "outputs": []
    },
    {
      "cell_type": "code",
      "source": [
        "X_train.shape, Y_train.shape"
      ],
      "metadata": {
        "execution": {
          "iopub.status.busy": "2023-06-04T18:58:51.00679Z",
          "iopub.execute_input": "2023-06-04T18:58:51.007137Z",
          "iopub.status.idle": "2023-06-04T18:58:51.022565Z",
          "shell.execute_reply.started": "2023-06-04T18:58:51.007109Z",
          "shell.execute_reply": "2023-06-04T18:58:51.021136Z"
        },
        "trusted": true,
        "id": "-R9eri4NrA9c"
      },
      "execution_count": null,
      "outputs": []
    },
    {
      "cell_type": "code",
      "source": [
        "X_test.shape, Y_test.shape"
      ],
      "metadata": {
        "execution": {
          "iopub.status.busy": "2023-06-04T18:58:51.024121Z",
          "iopub.execute_input": "2023-06-04T18:58:51.025128Z",
          "iopub.status.idle": "2023-06-04T18:58:51.040092Z",
          "shell.execute_reply.started": "2023-06-04T18:58:51.025079Z",
          "shell.execute_reply": "2023-06-04T18:58:51.038682Z"
        },
        "trusted": true,
        "id": "zvDtiQ2irA9d"
      },
      "execution_count": null,
      "outputs": []
    },
    {
      "cell_type": "markdown",
      "source": [
        "The model will be trained using 1055 rows of data, while 264 rows will be reserved for testing its performance."
      ],
      "metadata": {
        "id": "5B1cNXRNrA9d"
      }
    },
    {
      "cell_type": "code",
      "source": [
        "print(\"number of training samples :\", X_train.shape[0])  # Print the number of samples in the testing set\n",
        "print(\"number of test samples:\",X_test.shape[0]) # Print the number of samples in the training set"
      ],
      "metadata": {
        "execution": {
          "iopub.status.busy": "2023-06-04T18:58:51.0419Z",
          "iopub.execute_input": "2023-06-04T18:58:51.042373Z",
          "iopub.status.idle": "2023-06-04T18:58:51.052401Z",
          "shell.execute_reply.started": "2023-06-04T18:58:51.042333Z",
          "shell.execute_reply": "2023-06-04T18:58:51.051141Z"
        },
        "trusted": true,
        "id": "tg10pTp4rA9e"
      },
      "execution_count": null,
      "outputs": []
    },
    {
      "cell_type": "markdown",
      "source": [
        "## 6.3  Compare ML Models"
      ],
      "metadata": {
        "id": "u0IsMaM6rA9f"
      }
    },
    {
      "cell_type": "markdown",
      "source": [
        "Considering the complexity of our dataframe with 177 features, finding a reliable machine learning model that can accurately reproduce and predict the pIC50 values is a challenging task. To overcome this challenge, we will compare and evaluate multiple machine learning algorithms to construct regression models specifically for Beta_amyloid_A4_protein inhibitors. This approach will allow us to explore different modeling techniques and identify the most suitable algorithm for our dataset."
      ],
      "metadata": {
        "id": "xROrijozrA9f"
      }
    },
    {
      "cell_type": "code",
      "source": [
        "! pip install lazypredict\n",
        "\n",
        "import lazypredict\n",
        "from lazypredict.Supervised import LazyRegressor"
      ],
      "metadata": {
        "execution": {
          "iopub.status.busy": "2023-06-04T18:58:51.053703Z",
          "iopub.execute_input": "2023-06-04T18:58:51.054676Z",
          "iopub.status.idle": "2023-06-04T18:59:07.754607Z",
          "shell.execute_reply.started": "2023-06-04T18:58:51.054642Z",
          "shell.execute_reply": "2023-06-04T18:59:07.753127Z"
        },
        "trusted": true,
        "id": "q3tiM_dxrA9h"
      },
      "execution_count": null,
      "outputs": []
    },
    {
      "cell_type": "code",
      "source": [
        "# Import Libraries\n",
        "import lazypredict\n",
        "from lazypredict.Supervised import LazyRegressor"
      ],
      "metadata": {
        "execution": {
          "iopub.status.busy": "2023-06-04T18:59:07.756295Z",
          "iopub.execute_input": "2023-06-04T18:59:07.757024Z",
          "iopub.status.idle": "2023-06-04T18:59:07.763177Z",
          "shell.execute_reply.started": "2023-06-04T18:59:07.756983Z",
          "shell.execute_reply": "2023-06-04T18:59:07.761906Z"
        },
        "trusted": true,
        "id": "zMM5lQg8rA9i"
      },
      "execution_count": null,
      "outputs": []
    },
    {
      "cell_type": "markdown",
      "source": [
        "The **LazyRegressor** is a utility class from the lazy_regression library that provides a simplified way to evaluate and compare multiple regression models. It automatically fits and evaluates various regression algorithms on a given dataset, providing quick insights into the performance of different models."
      ],
      "metadata": {
        "id": "0UAPXYBFrA9j"
      }
    },
    {
      "cell_type": "code",
      "source": [
        "# Defines and builds the lazyclassifier\n",
        "clf = LazyRegressor(verbose=0,ignore_warnings=True, custom_metric=None)  # Creates an instance of the LazyRegressor class with specified parameters.\n",
        "models_train,predictions_train = clf.fit(X_train, X_train, Y_train, Y_train)\n",
        "models_test,predictions_test = clf.fit(X_train, X_test, Y_train, Y_test)"
      ],
      "metadata": {
        "execution": {
          "iopub.status.busy": "2023-06-04T18:59:07.76571Z",
          "iopub.execute_input": "2023-06-04T18:59:07.766214Z",
          "iopub.status.idle": "2023-06-04T19:01:37.157754Z",
          "shell.execute_reply.started": "2023-06-04T18:59:07.766168Z",
          "shell.execute_reply": "2023-06-04T19:01:37.156503Z"
        },
        "trusted": true,
        "id": "W8t3QOKurA9j"
      },
      "execution_count": null,
      "outputs": []
    },
    {
      "cell_type": "markdown",
      "source": [
        "Let's take a look at the  **performance table of the training set**"
      ],
      "metadata": {
        "id": "FYwXciVFrA9k"
      }
    },
    {
      "cell_type": "code",
      "source": [
        "# Performance table of the training set (80% subset)\n",
        "predictions_train"
      ],
      "metadata": {
        "execution": {
          "iopub.status.busy": "2023-06-04T19:02:01.96693Z",
          "iopub.execute_input": "2023-06-04T19:02:01.9674Z",
          "iopub.status.idle": "2023-06-04T19:02:01.990933Z",
          "shell.execute_reply.started": "2023-06-04T19:02:01.967368Z",
          "shell.execute_reply": "2023-06-04T19:02:01.989488Z"
        },
        "trusted": true,
        "id": "Oqtg7OVbrA9k"
      },
      "execution_count": null,
      "outputs": []
    },
    {
      "cell_type": "markdown",
      "source": [],
      "metadata": {
        "id": "RCnrMGIYrA9l"
      }
    },
    {
      "cell_type": "markdown",
      "source": [
        "And now let's take a look at the **performance of the test set**:\n"
      ],
      "metadata": {
        "id": "103Pj0QsrA9m"
      }
    },
    {
      "cell_type": "code",
      "source": [
        "# Performance table of the test set (20% subset)\n",
        "predictions_test"
      ],
      "metadata": {
        "execution": {
          "iopub.status.busy": "2023-06-04T19:01:37.166588Z",
          "iopub.execute_input": "2023-06-04T19:01:37.167027Z",
          "iopub.status.idle": "2023-06-04T19:01:37.19323Z",
          "shell.execute_reply.started": "2023-06-04T19:01:37.166988Z",
          "shell.execute_reply": "2023-06-04T19:01:37.192095Z"
        },
        "trusted": true,
        "id": "G5rsEVd2rA9m"
      },
      "execution_count": null,
      "outputs": []
    },
    {
      "cell_type": "markdown",
      "source": [
        "# 7. Provisional Conclusions\n",
        "\n"
      ],
      "metadata": {
        "id": "Jhgch5SKrA9n"
      }
    },
    {
      "cell_type": "markdown",
      "source": [
        "Exploratory Data Analysis (EDA) reveals that there is a partial discrimination between active and inactive compounds based on the analysis of hydrogen bond donor groups. Although there is some overlap between the two classes when the number of hydrogen bond donor groups ranges from 0 to 3, no active compounds (excluding outlier points) are observed beyond 3 hydrogen bond donor groups.\n",
        "\n",
        "However, the application of Machine Learning Models for regression to predict the bioactivity of drug-like molecules (pIC50 predicted values) does not yield satisfactory results. Therefore, further analysis of the dataset and potential manipulation of the data are necessary to improve the predictions."
      ],
      "metadata": {
        "id": "oPPgbBy0rA9o"
      }
    },
    {
      "cell_type": "markdown",
      "source": [
        "***"
      ],
      "metadata": {
        "id": "ucx8tTewrA9o"
      }
    },
    {
      "cell_type": "markdown",
      "source": [
        "Author: **Nicola Scafuri**"
      ],
      "metadata": {
        "id": "VsjQkVMsrA9o"
      }
    }
  ]
}